{
 "cells": [
  {
   "cell_type": "code",
   "execution_count": 1,
   "metadata": {},
   "outputs": [],
   "source": [
    "import cv2, numpy as np"
   ]
  },
  {
   "cell_type": "code",
   "execution_count": 7,
   "metadata": {},
   "outputs": [],
   "source": [
    "# Task 4.1: Create image by yourself Using Python Code\n",
    "\n",
    "# image 1\n",
    "blank = np.zeros((500, 500, 3), dtype='uint8')\n",
    "cv2.rectangle(blank, (50,50), (300,100), (250,10,240), thickness=-1)\n",
    "cv2.rectangle(blank, (250,100), (300,450), (250,10,240), thickness=-1)#vertical\n",
    "cv2.rectangle(blank, (300,400), (450,450), (250,10,240), thickness=-1)\n",
    "cv2.rectangle(blank, (50,250), (100,450), (250,10,240), thickness=-1)#vertical\n",
    "cv2.rectangle(blank, (50,250), (450,300), (250,10,240), thickness=-1)\n",
    "cv2.rectangle(blank, (400,50), (450,250), (250,10,240), thickness=-1)#vertical\n",
    "cv2.imshow('Rectangle', blank)\n",
    "cv2.waitKey()\n",
    "cv2.destroyAllWindows()"
   ]
  },
  {
   "cell_type": "code",
   "execution_count": 8,
   "metadata": {},
   "outputs": [],
   "source": [
    "# image 2\n",
    "img = np.zeros((500, 460, 3), np.uint8)\n",
    "img[25:225,25:225] = [0, 0, 255] # left upper\n",
    "img[25:225,235:435] = [0, 255, 0] # right upper\n",
    "img[235:435,25:225] = [220, 183, 51] # left down\n",
    "img[235:435,235:435] = [9, 255, 237] # right down\n",
    "cv2.imshow(\"myphoto\" , img)# open the photo \n",
    "cv2.waitKey() \n",
    "cv2.destroyAllWindows()# close all windows"
   ]
  },
  {
   "cell_type": "code",
   "execution_count": 9,
   "metadata": {},
   "outputs": [],
   "source": [
    "# image 3\n",
    "img1 = np.zeros((500, 300, 3), np.uint8)\n",
    "# building\n",
    "img1[50:450,50:250] = [15, 196, 241] #BGR outer\n",
    "img1[100:150,90:140] = [90, 35, 74] # left upper\n",
    "img1[100:150,150:200] = [166, 50, 38] # right upper\n",
    "img1[160:210,90:140] = [51, 118, 220]\n",
    "img1[160:210,150:200] = [244, 208, 63]\n",
    "img1[220:270,90:140] = [117, 141, 19]\n",
    "img1[220:270,150:200] = [152, 60, 125]\n",
    "img1[300:450,100:195] = [0, 54, 135]# door\n",
    "cv2.imshow(\"myphoto\" , img1)# open the photo\n",
    "cv2.waitKey() \n",
    "cv2.destroyAllWindows()# close all windows"
   ]
  },
  {
   "cell_type": "code",
   "execution_count": null,
   "metadata": {},
   "outputs": [],
   "source": []
  },
  {
   "cell_type": "code",
   "execution_count": 10,
   "metadata": {},
   "outputs": [],
   "source": [
    "# Task 4.2: Take 2 image crop some part of both image and swap it\n",
    "lion=cv2.imread(\"lion.jpeg\")\n",
    "cv2.imshow('lion.jpeg',lion)\n",
    "cv2.waitKey()\n",
    "cv2.destroyAllWindows()\n",
    "\n",
    "lion=cv2.imread('lion.jpeg')\n",
    "crop_lion=lion[70:200,70:200]\n",
    "cv2.imshow('cropped lion',crop_lion)\n",
    "cv2.waitKey()\n",
    "cv2.destroyAllWindows()\n",
    "\n",
    "bear=cv2.imread(\"bear.jpeg\")\n",
    "cv2.imshow('bear.jpeg',bear)\n",
    "cv2.waitKey()\n",
    "cv2.destroyAllWindows()\n",
    "\n",
    "bearl=cv2.imread('bear.jpeg')\n",
    "crop_bear=bear[30:160,40:170]\n",
    "cv2.imshow('cropped bear',crop_bear)\n",
    "cv2.waitKey()\n",
    "cv2.destroyAllWindows()\n",
    "\n",
    "bear=cv2.imread('bear.jpeg')\n",
    "bear[30:160,40:170]=crop_lion\n",
    "cv2.imshow('bear.jpeg',bear)\n",
    "cv2.waitKey()\n",
    "cv2.destroyAllWindows()\n",
    "\n",
    "\n",
    "lion=cv2.imread('lion.jpeg')\n",
    "lion[70:200,70:200]=cv2.resize(crop_bear, (130, 130))\n",
    "cv2.imshow('lion.jpeg',lion)\n",
    "cv2.waitKey()\n",
    "cv2.destroyAllWindows()\n"
   ]
  },
  {
   "cell_type": "code",
   "execution_count": 11,
   "metadata": {},
   "outputs": [],
   "source": [
    "# Take 4.3: take 2 image and combine it to form single image.\n",
    "lion=cv2.imread('lion.jpeg')\n",
    "bear=cv2.imread('bear.jpeg')\n",
    "\n",
    "bear1=bear[0:275,0:500]\n",
    "lion1=lion[0:275,0:500]\n",
    "combine=cv2.hconcat([lion1,bear1])\n",
    "cv2.imshow(\"joined_image\",combine)\n",
    "cv2.waitKey()\n",
    "cv2.destroyAllWindows()\n",
    "\n",
    "bear1=bear[:,0:399]\n",
    "lion1=lion[:,0:399]\n",
    "combine=cv2.vconcat([lion1,bear1])\n",
    "cv2.imshow(\"joined_image\",combine)\n",
    "cv2.waitKey()\n",
    "cv2.destroyAllWindows()"
   ]
  },
  {
   "cell_type": "code",
   "execution_count": null,
   "metadata": {},
   "outputs": [],
   "source": []
  }
 ],
 "metadata": {
  "kernelspec": {
   "display_name": "Python 3",
   "language": "python",
   "name": "python3"
  },
  "language_info": {
   "codemirror_mode": {
    "name": "ipython",
    "version": 3
   },
   "file_extension": ".py",
   "mimetype": "text/x-python",
   "name": "python",
   "nbconvert_exporter": "python",
   "pygments_lexer": "ipython3",
   "version": "3.8.5"
  }
 },
 "nbformat": 4,
 "nbformat_minor": 4
}
